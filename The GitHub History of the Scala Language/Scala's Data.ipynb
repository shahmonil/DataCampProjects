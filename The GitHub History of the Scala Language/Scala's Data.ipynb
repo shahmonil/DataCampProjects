{
 "cells": [
  {
   "cell_type": "markdown",
   "metadata": {
    "dc": {
     "key": "5"
    },
    "deletable": false,
    "editable": false,
    "run_control": {
     "frozen": true
    },
    "tags": [
     "context"
    ]
   },
   "source": [
    "## 1. Scala's real-world project repository data\n",
    "<p>With almost 30k commits and a history spanning over ten years, Scala is a mature programming language. It is a general-purpose programming language that has recently become another prominent language for data scientists.</p>\n",
    "<p>Scala is also an open source project. Open source projects have the advantage that their entire development histories -- who made changes, what was changed, code reviews, etc. -- are publicly available. </p>\n",
    "<p>We're going to read in, clean up, and visualize the real world project repository of Scala that spans data from a version control system (Git) as well as a project hosting site (GitHub). We will find out who has had the most influence on its development and who are the experts.</p>\n",
    "<p>The dataset we will use, which has been previously mined and extracted from GitHub, is comprised of three files:</p>\n",
    "<ol>\n",
    "<li><code>pulls_2011-2013.csv</code> contains the basic information about the pull requests, and spans from the end of 2011 up to (but not including) 2014.</li>\n",
    "<li><code>pulls_2014-2018.csv</code> contains identical information, and spans from 2014 up to 2018.</li>\n",
    "<li><code>pull_files.csv</code> contains the files that were modified by each pull request.</li>\n",
    "</ol>"
   ]
  },
  {
   "cell_type": "code",
   "execution_count": 197,
   "metadata": {
    "collapsed": true,
    "dc": {
     "key": "5"
    },
    "tags": [
     "sample_code"
    ]
   },
   "outputs": [],
   "source": [
    "# Importing pandas\n",
    "import pandas as pd\n",
    "\n",
    "# Loading in the data\n",
    "pulls_one = pd.read_csv('datasets/pulls_2011-2013.csv')\n",
    "pulls_two = pd.read_csv('datasets/pulls_2014-2018.csv')\n",
    "pull_files = pd.read_csv('datasets/pull_files.csv')"
   ]
  },
  {
   "cell_type": "markdown",
   "metadata": {
    "dc": {
     "key": "12"
    },
    "deletable": false,
    "editable": false,
    "run_control": {
     "frozen": true
    },
    "tags": [
     "context"
    ]
   },
   "source": [
    "## 2. Preparing and cleaning the data\n",
    "<p>First, we will need to combine the data from the two separate pull DataFrames. </p>\n",
    "<p>Next, the raw data extracted from GitHub contains dates in the ISO8601 format. However, <code>pandas</code> imports them as regular strings. To make our analysis easier, we need to convert the strings into Python's <code>DateTime</code> objects. <code>DateTime</code> objects have the important property that they can be compared and sorted.</p>\n",
    "<p>The pull request times are all in UTC (also known as Coordinated Universal Time). The commit times, however, are in the local time of the author with time zone information (number of hours difference from UTC). To make comparisons easy, we should convert all times to UTC.</p>"
   ]
  },
  {
   "cell_type": "code",
   "execution_count": 199,
   "metadata": {
    "dc": {
     "key": "12"
    },
    "scrolled": true
   },
   "outputs": [
    {
     "data": {
      "text/html": [
       "<div>\n",
       "<style scoped>\n",
       "    .dataframe tbody tr th:only-of-type {\n",
       "        vertical-align: middle;\n",
       "    }\n",
       "\n",
       "    .dataframe tbody tr th {\n",
       "        vertical-align: top;\n",
       "    }\n",
       "\n",
       "    .dataframe thead th {\n",
       "        text-align: right;\n",
       "    }\n",
       "</style>\n",
       "<table border=\"1\" class=\"dataframe\">\n",
       "  <thead>\n",
       "    <tr style=\"text-align: right;\">\n",
       "      <th></th>\n",
       "      <th>pid</th>\n",
       "      <th>user</th>\n",
       "      <th>date</th>\n",
       "    </tr>\n",
       "  </thead>\n",
       "  <tbody>\n",
       "    <tr>\n",
       "      <th>0</th>\n",
       "      <td>11166973</td>\n",
       "      <td>VladimirNik</td>\n",
       "      <td>2013-12-31T23:10:55Z</td>\n",
       "    </tr>\n",
       "    <tr>\n",
       "      <th>1</th>\n",
       "      <td>11161892</td>\n",
       "      <td>Ichoran</td>\n",
       "      <td>2013-12-31T16:55:47Z</td>\n",
       "    </tr>\n",
       "    <tr>\n",
       "      <th>2</th>\n",
       "      <td>11153894</td>\n",
       "      <td>Ichoran</td>\n",
       "      <td>2013-12-31T02:41:13Z</td>\n",
       "    </tr>\n",
       "    <tr>\n",
       "      <th>3</th>\n",
       "      <td>11151917</td>\n",
       "      <td>rklaehn</td>\n",
       "      <td>2013-12-30T23:45:47Z</td>\n",
       "    </tr>\n",
       "    <tr>\n",
       "      <th>4</th>\n",
       "      <td>11131244</td>\n",
       "      <td>qerub</td>\n",
       "      <td>2013-12-29T17:21:01Z</td>\n",
       "    </tr>\n",
       "  </tbody>\n",
       "</table>\n",
       "</div>"
      ],
      "text/plain": [
       "        pid         user                  date\n",
       "0  11166973  VladimirNik  2013-12-31T23:10:55Z\n",
       "1  11161892      Ichoran  2013-12-31T16:55:47Z\n",
       "2  11153894      Ichoran  2013-12-31T02:41:13Z\n",
       "3  11151917      rklaehn  2013-12-30T23:45:47Z\n",
       "4  11131244        qerub  2013-12-29T17:21:01Z"
      ]
     },
     "execution_count": 199,
     "metadata": {},
     "output_type": "execute_result"
    }
   ],
   "source": [
    "pulls_one.head()"
   ]
  },
  {
   "cell_type": "code",
   "execution_count": 200,
   "metadata": {
    "dc": {
     "key": "12"
    },
    "scrolled": false
   },
   "outputs": [
    {
     "data": {
      "text/html": [
       "<div>\n",
       "<style scoped>\n",
       "    .dataframe tbody tr th:only-of-type {\n",
       "        vertical-align: middle;\n",
       "    }\n",
       "\n",
       "    .dataframe tbody tr th {\n",
       "        vertical-align: top;\n",
       "    }\n",
       "\n",
       "    .dataframe thead th {\n",
       "        text-align: right;\n",
       "    }\n",
       "</style>\n",
       "<table border=\"1\" class=\"dataframe\">\n",
       "  <thead>\n",
       "    <tr style=\"text-align: right;\">\n",
       "      <th></th>\n",
       "      <th>pid</th>\n",
       "      <th>user</th>\n",
       "      <th>date</th>\n",
       "    </tr>\n",
       "  </thead>\n",
       "  <tbody>\n",
       "    <tr>\n",
       "      <th>0</th>\n",
       "      <td>163314316</td>\n",
       "      <td>hrhino</td>\n",
       "      <td>2018-01-16T23:29:16Z</td>\n",
       "    </tr>\n",
       "    <tr>\n",
       "      <th>1</th>\n",
       "      <td>163061502</td>\n",
       "      <td>joroKr21</td>\n",
       "      <td>2018-01-15T23:44:52Z</td>\n",
       "    </tr>\n",
       "    <tr>\n",
       "      <th>2</th>\n",
       "      <td>163057333</td>\n",
       "      <td>mkeskells</td>\n",
       "      <td>2018-01-15T23:05:06Z</td>\n",
       "    </tr>\n",
       "    <tr>\n",
       "      <th>3</th>\n",
       "      <td>162985594</td>\n",
       "      <td>lrytz</td>\n",
       "      <td>2018-01-15T15:52:39Z</td>\n",
       "    </tr>\n",
       "    <tr>\n",
       "      <th>4</th>\n",
       "      <td>162838837</td>\n",
       "      <td>zuvizudar</td>\n",
       "      <td>2018-01-14T19:16:16Z</td>\n",
       "    </tr>\n",
       "  </tbody>\n",
       "</table>\n",
       "</div>"
      ],
      "text/plain": [
       "         pid       user                  date\n",
       "0  163314316     hrhino  2018-01-16T23:29:16Z\n",
       "1  163061502   joroKr21  2018-01-15T23:44:52Z\n",
       "2  163057333  mkeskells  2018-01-15T23:05:06Z\n",
       "3  162985594      lrytz  2018-01-15T15:52:39Z\n",
       "4  162838837  zuvizudar  2018-01-14T19:16:16Z"
      ]
     },
     "execution_count": 200,
     "metadata": {},
     "output_type": "execute_result"
    }
   ],
   "source": [
    "pulls_two.head()"
   ]
  },
  {
   "cell_type": "code",
   "execution_count": 201,
   "metadata": {
    "collapsed": true,
    "dc": {
     "key": "12"
    }
   },
   "outputs": [],
   "source": [
    "# Append pulls_one to pulls_two\n",
    "pulls = pulls_one.append(pulls_two, ignore_index=True)"
   ]
  },
  {
   "cell_type": "code",
   "execution_count": 202,
   "metadata": {
    "dc": {
     "key": "12"
    }
   },
   "outputs": [
    {
     "data": {
      "text/html": [
       "<div>\n",
       "<style scoped>\n",
       "    .dataframe tbody tr th:only-of-type {\n",
       "        vertical-align: middle;\n",
       "    }\n",
       "\n",
       "    .dataframe tbody tr th {\n",
       "        vertical-align: top;\n",
       "    }\n",
       "\n",
       "    .dataframe thead th {\n",
       "        text-align: right;\n",
       "    }\n",
       "</style>\n",
       "<table border=\"1\" class=\"dataframe\">\n",
       "  <thead>\n",
       "    <tr style=\"text-align: right;\">\n",
       "      <th></th>\n",
       "      <th>pid</th>\n",
       "      <th>user</th>\n",
       "      <th>date</th>\n",
       "    </tr>\n",
       "  </thead>\n",
       "  <tbody>\n",
       "    <tr>\n",
       "      <th>0</th>\n",
       "      <td>11166973</td>\n",
       "      <td>VladimirNik</td>\n",
       "      <td>2013-12-31T23:10:55Z</td>\n",
       "    </tr>\n",
       "    <tr>\n",
       "      <th>1</th>\n",
       "      <td>11161892</td>\n",
       "      <td>Ichoran</td>\n",
       "      <td>2013-12-31T16:55:47Z</td>\n",
       "    </tr>\n",
       "    <tr>\n",
       "      <th>2</th>\n",
       "      <td>11153894</td>\n",
       "      <td>Ichoran</td>\n",
       "      <td>2013-12-31T02:41:13Z</td>\n",
       "    </tr>\n",
       "    <tr>\n",
       "      <th>3</th>\n",
       "      <td>11151917</td>\n",
       "      <td>rklaehn</td>\n",
       "      <td>2013-12-30T23:45:47Z</td>\n",
       "    </tr>\n",
       "    <tr>\n",
       "      <th>4</th>\n",
       "      <td>11131244</td>\n",
       "      <td>qerub</td>\n",
       "      <td>2013-12-29T17:21:01Z</td>\n",
       "    </tr>\n",
       "  </tbody>\n",
       "</table>\n",
       "</div>"
      ],
      "text/plain": [
       "        pid         user                  date\n",
       "0  11166973  VladimirNik  2013-12-31T23:10:55Z\n",
       "1  11161892      Ichoran  2013-12-31T16:55:47Z\n",
       "2  11153894      Ichoran  2013-12-31T02:41:13Z\n",
       "3  11151917      rklaehn  2013-12-30T23:45:47Z\n",
       "4  11131244        qerub  2013-12-29T17:21:01Z"
      ]
     },
     "execution_count": 202,
     "metadata": {},
     "output_type": "execute_result"
    }
   ],
   "source": [
    "pulls.head()"
   ]
  },
  {
   "cell_type": "code",
   "execution_count": 203,
   "metadata": {
    "dc": {
     "key": "12"
    }
   },
   "outputs": [],
   "source": [
    "# Convert the date for the pulls object\n",
    "pulls['date'] = pd.to_datetime(pulls['date'],utc=True)"
   ]
  },
  {
   "cell_type": "code",
   "execution_count": 204,
   "metadata": {
    "dc": {
     "key": "12"
    }
   },
   "outputs": [
    {
     "data": {
      "text/html": [
       "<div>\n",
       "<style scoped>\n",
       "    .dataframe tbody tr th:only-of-type {\n",
       "        vertical-align: middle;\n",
       "    }\n",
       "\n",
       "    .dataframe tbody tr th {\n",
       "        vertical-align: top;\n",
       "    }\n",
       "\n",
       "    .dataframe thead th {\n",
       "        text-align: right;\n",
       "    }\n",
       "</style>\n",
       "<table border=\"1\" class=\"dataframe\">\n",
       "  <thead>\n",
       "    <tr style=\"text-align: right;\">\n",
       "      <th></th>\n",
       "      <th>pid</th>\n",
       "      <th>user</th>\n",
       "      <th>date</th>\n",
       "    </tr>\n",
       "  </thead>\n",
       "  <tbody>\n",
       "    <tr>\n",
       "      <th>0</th>\n",
       "      <td>11166973</td>\n",
       "      <td>VladimirNik</td>\n",
       "      <td>2013-12-31 23:10:55+00:00</td>\n",
       "    </tr>\n",
       "    <tr>\n",
       "      <th>1</th>\n",
       "      <td>11161892</td>\n",
       "      <td>Ichoran</td>\n",
       "      <td>2013-12-31 16:55:47+00:00</td>\n",
       "    </tr>\n",
       "    <tr>\n",
       "      <th>2</th>\n",
       "      <td>11153894</td>\n",
       "      <td>Ichoran</td>\n",
       "      <td>2013-12-31 02:41:13+00:00</td>\n",
       "    </tr>\n",
       "    <tr>\n",
       "      <th>3</th>\n",
       "      <td>11151917</td>\n",
       "      <td>rklaehn</td>\n",
       "      <td>2013-12-30 23:45:47+00:00</td>\n",
       "    </tr>\n",
       "    <tr>\n",
       "      <th>4</th>\n",
       "      <td>11131244</td>\n",
       "      <td>qerub</td>\n",
       "      <td>2013-12-29 17:21:01+00:00</td>\n",
       "    </tr>\n",
       "  </tbody>\n",
       "</table>\n",
       "</div>"
      ],
      "text/plain": [
       "        pid         user                      date\n",
       "0  11166973  VladimirNik 2013-12-31 23:10:55+00:00\n",
       "1  11161892      Ichoran 2013-12-31 16:55:47+00:00\n",
       "2  11153894      Ichoran 2013-12-31 02:41:13+00:00\n",
       "3  11151917      rklaehn 2013-12-30 23:45:47+00:00\n",
       "4  11131244        qerub 2013-12-29 17:21:01+00:00"
      ]
     },
     "execution_count": 204,
     "metadata": {},
     "output_type": "execute_result"
    }
   ],
   "source": [
    "pulls.head()"
   ]
  },
  {
   "cell_type": "markdown",
   "metadata": {
    "dc": {
     "key": "19"
    },
    "deletable": false,
    "editable": false,
    "run_control": {
     "frozen": true
    },
    "tags": [
     "context"
    ]
   },
   "source": [
    "## 3. Merging the DataFrames\n",
    "<p>The data extracted comes in two separate files. Merging the two DataFrames will make it easier for us to analyze the data in the future tasks.</p>"
   ]
  },
  {
   "cell_type": "code",
   "execution_count": 206,
   "metadata": {
    "dc": {
     "key": "19"
    }
   },
   "outputs": [
    {
     "data": {
      "text/html": [
       "<div>\n",
       "<style scoped>\n",
       "    .dataframe tbody tr th:only-of-type {\n",
       "        vertical-align: middle;\n",
       "    }\n",
       "\n",
       "    .dataframe tbody tr th {\n",
       "        vertical-align: top;\n",
       "    }\n",
       "\n",
       "    .dataframe thead th {\n",
       "        text-align: right;\n",
       "    }\n",
       "</style>\n",
       "<table border=\"1\" class=\"dataframe\">\n",
       "  <thead>\n",
       "    <tr style=\"text-align: right;\">\n",
       "      <th></th>\n",
       "      <th>pid</th>\n",
       "      <th>file</th>\n",
       "    </tr>\n",
       "  </thead>\n",
       "  <tbody>\n",
       "    <tr>\n",
       "      <th>0</th>\n",
       "      <td>163314316</td>\n",
       "      <td>test/files/pos/t5638/Among.java</td>\n",
       "    </tr>\n",
       "    <tr>\n",
       "      <th>1</th>\n",
       "      <td>163314316</td>\n",
       "      <td>test/files/pos/t5638/Usage.scala</td>\n",
       "    </tr>\n",
       "    <tr>\n",
       "      <th>2</th>\n",
       "      <td>163314316</td>\n",
       "      <td>test/files/pos/t9291.scala</td>\n",
       "    </tr>\n",
       "    <tr>\n",
       "      <th>3</th>\n",
       "      <td>163314316</td>\n",
       "      <td>test/files/run/t8348.check</td>\n",
       "    </tr>\n",
       "    <tr>\n",
       "      <th>4</th>\n",
       "      <td>163314316</td>\n",
       "      <td>test/files/run/t8348/TableColumn.java</td>\n",
       "    </tr>\n",
       "  </tbody>\n",
       "</table>\n",
       "</div>"
      ],
      "text/plain": [
       "         pid                                   file\n",
       "0  163314316        test/files/pos/t5638/Among.java\n",
       "1  163314316       test/files/pos/t5638/Usage.scala\n",
       "2  163314316             test/files/pos/t9291.scala\n",
       "3  163314316             test/files/run/t8348.check\n",
       "4  163314316  test/files/run/t8348/TableColumn.java"
      ]
     },
     "execution_count": 206,
     "metadata": {},
     "output_type": "execute_result"
    }
   ],
   "source": [
    "pull_files.head()"
   ]
  },
  {
   "cell_type": "code",
   "execution_count": 207,
   "metadata": {
    "collapsed": true,
    "dc": {
     "key": "19"
    },
    "tags": [
     "sample_code"
    ]
   },
   "outputs": [],
   "source": [
    "# Merge the two DataFrames\n",
    "data = pulls.merge(pull_files, on = 'pid')"
   ]
  },
  {
   "cell_type": "code",
   "execution_count": 208,
   "metadata": {
    "dc": {
     "key": "19"
    }
   },
   "outputs": [
    {
     "data": {
      "text/html": [
       "<div>\n",
       "<style scoped>\n",
       "    .dataframe tbody tr th:only-of-type {\n",
       "        vertical-align: middle;\n",
       "    }\n",
       "\n",
       "    .dataframe tbody tr th {\n",
       "        vertical-align: top;\n",
       "    }\n",
       "\n",
       "    .dataframe thead th {\n",
       "        text-align: right;\n",
       "    }\n",
       "</style>\n",
       "<table border=\"1\" class=\"dataframe\">\n",
       "  <thead>\n",
       "    <tr style=\"text-align: right;\">\n",
       "      <th></th>\n",
       "      <th>pid</th>\n",
       "      <th>user</th>\n",
       "      <th>date</th>\n",
       "      <th>file</th>\n",
       "    </tr>\n",
       "  </thead>\n",
       "  <tbody>\n",
       "    <tr>\n",
       "      <th>0</th>\n",
       "      <td>11166973</td>\n",
       "      <td>VladimirNik</td>\n",
       "      <td>2013-12-31 23:10:55+00:00</td>\n",
       "      <td>src/reflect/scala/reflect/api/Printers.scala</td>\n",
       "    </tr>\n",
       "    <tr>\n",
       "      <th>1</th>\n",
       "      <td>11166973</td>\n",
       "      <td>VladimirNik</td>\n",
       "      <td>2013-12-31 23:10:55+00:00</td>\n",
       "      <td>src/reflect/scala/reflect/internal/Printers.scala</td>\n",
       "    </tr>\n",
       "    <tr>\n",
       "      <th>2</th>\n",
       "      <td>11166973</td>\n",
       "      <td>VladimirNik</td>\n",
       "      <td>2013-12-31 23:10:55+00:00</td>\n",
       "      <td>test/files/run/reify_ann3.check</td>\n",
       "    </tr>\n",
       "    <tr>\n",
       "      <th>3</th>\n",
       "      <td>11166973</td>\n",
       "      <td>VladimirNik</td>\n",
       "      <td>2013-12-31 23:10:55+00:00</td>\n",
       "      <td>test/junit/scala/reflect/internal/PrintersTest...</td>\n",
       "    </tr>\n",
       "    <tr>\n",
       "      <th>4</th>\n",
       "      <td>11161892</td>\n",
       "      <td>Ichoran</td>\n",
       "      <td>2013-12-31 16:55:47+00:00</td>\n",
       "      <td>src/library/scala/collection/mutable/ArrayOps....</td>\n",
       "    </tr>\n",
       "  </tbody>\n",
       "</table>\n",
       "</div>"
      ],
      "text/plain": [
       "        pid         user                      date  \\\n",
       "0  11166973  VladimirNik 2013-12-31 23:10:55+00:00   \n",
       "1  11166973  VladimirNik 2013-12-31 23:10:55+00:00   \n",
       "2  11166973  VladimirNik 2013-12-31 23:10:55+00:00   \n",
       "3  11166973  VladimirNik 2013-12-31 23:10:55+00:00   \n",
       "4  11161892      Ichoran 2013-12-31 16:55:47+00:00   \n",
       "\n",
       "                                                file  \n",
       "0       src/reflect/scala/reflect/api/Printers.scala  \n",
       "1  src/reflect/scala/reflect/internal/Printers.scala  \n",
       "2                    test/files/run/reify_ann3.check  \n",
       "3  test/junit/scala/reflect/internal/PrintersTest...  \n",
       "4  src/library/scala/collection/mutable/ArrayOps....  "
      ]
     },
     "execution_count": 208,
     "metadata": {},
     "output_type": "execute_result"
    }
   ],
   "source": [
    "data.head()"
   ]
  },
  {
   "cell_type": "markdown",
   "metadata": {
    "dc": {
     "key": "26"
    },
    "deletable": false,
    "editable": false,
    "run_control": {
     "frozen": true
    },
    "tags": [
     "context"
    ]
   },
   "source": [
    "## 4. Is the project still actively maintained?\n",
    "<p>The activity in an open source project is not very consistent. Some projects might be active for many years after the initial release, while others can slowly taper out into oblivion. Before committing to contributing to a project, it is important to understand the state of the project. Is development going steadily, or is there a drop? Has the project been abandoned altogether?</p>\n",
    "<p>The data used in this project was collected in January of 2018. We are interested in the evolution of the number of contributions up to that date.</p>\n",
    "<p>For Scala, we will do this by plotting a chart of the project's activity. We will calculate the number of pull requests submitted each (calendar) month during the project's lifetime. We will then plot these numbers to see the trend of contributions.</p>\n",
    "<ul>\n",
    "<li><p>A helpful reminder of how to access various components of a date can be found in <a href=\"https://campus.datacamp.com/courses/data-manipulation-with-pandas/slicing-and-indexing?ex=12\">this exercise of Data Manipulation with pandas</a></p></li>\n",
    "<li><p>Additionally, recall that you can group by multiple variables by passing a list to <code>groupby()</code>. This video from <a href=\"https://campus.datacamp.com/courses/data-manipulation-with-pandas/aggregating-data-ad6d4643-0e95-470c-8299-f69cc4c83de8?ex=9\">Data Manipulation with pandas</a> should help!</p></li>\n",
    "</ul>"
   ]
  },
  {
   "cell_type": "code",
   "execution_count": 210,
   "metadata": {
    "dc": {
     "key": "26"
    },
    "scrolled": true
   },
   "outputs": [
    {
     "data": {
      "text/html": [
       "<div>\n",
       "<style scoped>\n",
       "    .dataframe tbody tr th:only-of-type {\n",
       "        vertical-align: middle;\n",
       "    }\n",
       "\n",
       "    .dataframe tbody tr th {\n",
       "        vertical-align: top;\n",
       "    }\n",
       "\n",
       "    .dataframe thead th {\n",
       "        text-align: right;\n",
       "    }\n",
       "</style>\n",
       "<table border=\"1\" class=\"dataframe\">\n",
       "  <thead>\n",
       "    <tr style=\"text-align: right;\">\n",
       "      <th></th>\n",
       "      <th>pid</th>\n",
       "      <th>user</th>\n",
       "      <th>date</th>\n",
       "      <th>file</th>\n",
       "    </tr>\n",
       "  </thead>\n",
       "  <tbody>\n",
       "    <tr>\n",
       "      <th>0</th>\n",
       "      <td>11166973</td>\n",
       "      <td>VladimirNik</td>\n",
       "      <td>2013-12-31 23:10:55+00:00</td>\n",
       "      <td>src/reflect/scala/reflect/api/Printers.scala</td>\n",
       "    </tr>\n",
       "    <tr>\n",
       "      <th>1</th>\n",
       "      <td>11166973</td>\n",
       "      <td>VladimirNik</td>\n",
       "      <td>2013-12-31 23:10:55+00:00</td>\n",
       "      <td>src/reflect/scala/reflect/internal/Printers.scala</td>\n",
       "    </tr>\n",
       "    <tr>\n",
       "      <th>2</th>\n",
       "      <td>11166973</td>\n",
       "      <td>VladimirNik</td>\n",
       "      <td>2013-12-31 23:10:55+00:00</td>\n",
       "      <td>test/files/run/reify_ann3.check</td>\n",
       "    </tr>\n",
       "    <tr>\n",
       "      <th>3</th>\n",
       "      <td>11166973</td>\n",
       "      <td>VladimirNik</td>\n",
       "      <td>2013-12-31 23:10:55+00:00</td>\n",
       "      <td>test/junit/scala/reflect/internal/PrintersTest...</td>\n",
       "    </tr>\n",
       "    <tr>\n",
       "      <th>4</th>\n",
       "      <td>11161892</td>\n",
       "      <td>Ichoran</td>\n",
       "      <td>2013-12-31 16:55:47+00:00</td>\n",
       "      <td>src/library/scala/collection/mutable/ArrayOps....</td>\n",
       "    </tr>\n",
       "  </tbody>\n",
       "</table>\n",
       "</div>"
      ],
      "text/plain": [
       "        pid         user                      date  \\\n",
       "0  11166973  VladimirNik 2013-12-31 23:10:55+00:00   \n",
       "1  11166973  VladimirNik 2013-12-31 23:10:55+00:00   \n",
       "2  11166973  VladimirNik 2013-12-31 23:10:55+00:00   \n",
       "3  11166973  VladimirNik 2013-12-31 23:10:55+00:00   \n",
       "4  11161892      Ichoran 2013-12-31 16:55:47+00:00   \n",
       "\n",
       "                                                file  \n",
       "0       src/reflect/scala/reflect/api/Printers.scala  \n",
       "1  src/reflect/scala/reflect/internal/Printers.scala  \n",
       "2                    test/files/run/reify_ann3.check  \n",
       "3  test/junit/scala/reflect/internal/PrintersTest...  \n",
       "4  src/library/scala/collection/mutable/ArrayOps....  "
      ]
     },
     "execution_count": 210,
     "metadata": {},
     "output_type": "execute_result"
    }
   ],
   "source": [
    "data.head()"
   ]
  },
  {
   "cell_type": "code",
   "execution_count": 211,
   "metadata": {
    "dc": {
     "key": "26"
    },
    "scrolled": true,
    "tags": [
     "sample_code"
    ]
   },
   "outputs": [],
   "source": [
    "%matplotlib inline\n",
    "\n",
    "# Create a column that will store the month\n",
    "data['month'] = data['date'].dt.month\n",
    "\n",
    "# Create a column that will store the year\n",
    "data['year'] = data['date'].dt.year"
   ]
  },
  {
   "cell_type": "code",
   "execution_count": 212,
   "metadata": {
    "dc": {
     "key": "26"
    }
   },
   "outputs": [],
   "source": [
    "# Group by the month and year and count the pull requests\n",
    "counts = data.groupby(['month', 'year']).count()['pid']"
   ]
  },
  {
   "cell_type": "code",
   "execution_count": 213,
   "metadata": {
    "dc": {
     "key": "26"
    }
   },
   "outputs": [
    {
     "data": {
      "text/plain": [
       "<matplotlib.axes._subplots.AxesSubplot at 0x7f9e4dbaff28>"
      ]
     },
     "execution_count": 213,
     "metadata": {},
     "output_type": "execute_result"
    },
    {
     "data": {
      "image/png": "[encoded data removed]",
      "text/plain": [
       "<Figure size 864x288 with 1 Axes>"
      ]
     },
     "metadata": {},
     "output_type": "display_data"
    }
   ],
   "source": [
    "# Plot the results\n",
    "counts.plot(kind='bar', figsize = (12,4))"
   ]
  },
  {
   "cell_type": "markdown",
   "metadata": {
    "dc": {
     "key": "33"
    },
    "deletable": false,
    "editable": false,
    "run_control": {
     "frozen": true
    },
    "tags": [
     "context"
    ]
   },
   "source": [
    "## 5. Is there camaraderie in the project?\n",
    "<p>The organizational structure varies from one project to another, and it can influence your success as a contributor. A project that has a very small community might not be the best one to start working on. The small community might indicate a high barrier of entry. This can be caused by several factors, including a community that is reluctant to accept pull requests from \"outsiders,\" that the code base is hard to work with, etc. However, a large community can serve as an indicator that the project is regularly accepting pull requests from new contributors. Such a project would be a good place to start.</p>\n",
    "<p>In order to evaluate the dynamics of the community, we will plot a histogram of the number of pull requests submitted by each user. A distribution that shows that there are few people that only contribute a small number of pull requests can be used as in indicator that the project is not welcoming of new contributors. </p>"
   ]
  },
  {
   "cell_type": "code",
   "execution_count": 215,
   "metadata": {
    "dc": {
     "key": "33"
    }
   },
   "outputs": [
    {
     "data": {
      "text/html": [
       "<div>\n",
       "<style scoped>\n",
       "    .dataframe tbody tr th:only-of-type {\n",
       "        vertical-align: middle;\n",
       "    }\n",
       "\n",
       "    .dataframe tbody tr th {\n",
       "        vertical-align: top;\n",
       "    }\n",
       "\n",
       "    .dataframe thead th {\n",
       "        text-align: right;\n",
       "    }\n",
       "</style>\n",
       "<table border=\"1\" class=\"dataframe\">\n",
       "  <thead>\n",
       "    <tr style=\"text-align: right;\">\n",
       "      <th></th>\n",
       "      <th>pid</th>\n",
       "      <th>user</th>\n",
       "      <th>date</th>\n",
       "    </tr>\n",
       "  </thead>\n",
       "  <tbody>\n",
       "    <tr>\n",
       "      <th>0</th>\n",
       "      <td>11166973</td>\n",
       "      <td>VladimirNik</td>\n",
       "      <td>2013-12-31 23:10:55+00:00</td>\n",
       "    </tr>\n",
       "    <tr>\n",
       "      <th>1</th>\n",
       "      <td>11161892</td>\n",
       "      <td>Ichoran</td>\n",
       "      <td>2013-12-31 16:55:47+00:00</td>\n",
       "    </tr>\n",
       "    <tr>\n",
       "      <th>2</th>\n",
       "      <td>11153894</td>\n",
       "      <td>Ichoran</td>\n",
       "      <td>2013-12-31 02:41:13+00:00</td>\n",
       "    </tr>\n",
       "    <tr>\n",
       "      <th>3</th>\n",
       "      <td>11151917</td>\n",
       "      <td>rklaehn</td>\n",
       "      <td>2013-12-30 23:45:47+00:00</td>\n",
       "    </tr>\n",
       "    <tr>\n",
       "      <th>4</th>\n",
       "      <td>11131244</td>\n",
       "      <td>qerub</td>\n",
       "      <td>2013-12-29 17:21:01+00:00</td>\n",
       "    </tr>\n",
       "  </tbody>\n",
       "</table>\n",
       "</div>"
      ],
      "text/plain": [
       "        pid         user                      date\n",
       "0  11166973  VladimirNik 2013-12-31 23:10:55+00:00\n",
       "1  11161892      Ichoran 2013-12-31 16:55:47+00:00\n",
       "2  11153894      Ichoran 2013-12-31 02:41:13+00:00\n",
       "3  11151917      rklaehn 2013-12-30 23:45:47+00:00\n",
       "4  11131244        qerub 2013-12-29 17:21:01+00:00"
      ]
     },
     "execution_count": 215,
     "metadata": {},
     "output_type": "execute_result"
    }
   ],
   "source": [
    "pulls.head()"
   ]
  },
  {
   "cell_type": "code",
   "execution_count": 216,
   "metadata": {
    "dc": {
     "key": "33"
    },
    "tags": [
     "sample_code"
    ]
   },
   "outputs": [],
   "source": [
    "# Required for matplotlib\n",
    "%matplotlib inline\n",
    "\n",
    "# Group by the submitter\n",
    "by_user = pulls.groupby('user').count()['pid']"
   ]
  },
  {
   "cell_type": "code",
   "execution_count": 217,
   "metadata": {
    "dc": {
     "key": "12"
    }
   },
   "outputs": [
    {
     "data": {
      "text/plain": [
       "<matplotlib.axes._subplots.AxesSubplot at 0x7f9e4dbd8198>"
      ]
     },
     "execution_count": 217,
     "metadata": {},
     "output_type": "execute_result"
    },
    {
     "data": {
      "image/png": "[encoded data removed]",
      "text/plain": [
       "<Figure size 432x288 with 1 Axes>"
      ]
     },
     "metadata": {},
     "output_type": "display_data"
    }
   ],
   "source": [
    "# Plot the histogram\n",
    "by_user.plot(kind = 'hist')"
   ]
  },
  {
   "cell_type": "markdown",
   "metadata": {
    "dc": {
     "key": "40"
    },
    "deletable": false,
    "editable": false,
    "run_control": {
     "frozen": true
    },
    "tags": [
     "context"
    ]
   },
   "source": [
    "## 6. What files were changed in the last ten pull requests?\n",
    "<p>Choosing the right place to make a contribution is as important as choosing the project to contribute to. Some parts of the code might be stable, some might be dead. Contributing there might not have the most impact. Therefore it is important to understand the parts of the system that have been recently changed. This allows us to pinpoint the \"hot\" areas of the code where most of the activity is happening. Focusing on those parts might not the most effective use of our times.</p>"
   ]
  },
  {
   "cell_type": "code",
   "execution_count": 219,
   "metadata": {
    "dc": {
     "key": "40"
    },
    "tags": [
     "sample_code"
    ]
   },
   "outputs": [],
   "source": [
    "# Identify the last 10 pull requests\n",
    "last_10 = pulls.nlargest(10,columns='date')"
   ]
  },
  {
   "cell_type": "code",
   "execution_count": 220,
   "metadata": {
    "collapsed": true,
    "dc": {
     "key": "12"
    }
   },
   "outputs": [],
   "source": [
    "# Join the two data sets\n",
    "joined_pr = pd.merge(left = last_10, right = pull_files, on='pid')"
   ]
  },
  {
   "cell_type": "code",
   "execution_count": 221,
   "metadata": {
    "dc": {
     "key": "40"
    }
   },
   "outputs": [
    {
     "data": {
      "text/html": [
       "<div>\n",
       "<style scoped>\n",
       "    .dataframe tbody tr th:only-of-type {\n",
       "        vertical-align: middle;\n",
       "    }\n",
       "\n",
       "    .dataframe tbody tr th {\n",
       "        vertical-align: top;\n",
       "    }\n",
       "\n",
       "    .dataframe thead th {\n",
       "        text-align: right;\n",
       "    }\n",
       "</style>\n",
       "<table border=\"1\" class=\"dataframe\">\n",
       "  <thead>\n",
       "    <tr style=\"text-align: right;\">\n",
       "      <th></th>\n",
       "      <th>pid</th>\n",
       "      <th>user</th>\n",
       "      <th>date</th>\n",
       "      <th>file</th>\n",
       "    </tr>\n",
       "  </thead>\n",
       "  <tbody>\n",
       "    <tr>\n",
       "      <th>0</th>\n",
       "      <td>163314316</td>\n",
       "      <td>hrhino</td>\n",
       "      <td>2018-01-16 23:29:16+00:00</td>\n",
       "      <td>test/files/pos/t5638/Among.java</td>\n",
       "    </tr>\n",
       "    <tr>\n",
       "      <th>1</th>\n",
       "      <td>163314316</td>\n",
       "      <td>hrhino</td>\n",
       "      <td>2018-01-16 23:29:16+00:00</td>\n",
       "      <td>test/files/pos/t5638/Usage.scala</td>\n",
       "    </tr>\n",
       "    <tr>\n",
       "      <th>2</th>\n",
       "      <td>163314316</td>\n",
       "      <td>hrhino</td>\n",
       "      <td>2018-01-16 23:29:16+00:00</td>\n",
       "      <td>test/files/pos/t9291.scala</td>\n",
       "    </tr>\n",
       "    <tr>\n",
       "      <th>3</th>\n",
       "      <td>163314316</td>\n",
       "      <td>hrhino</td>\n",
       "      <td>2018-01-16 23:29:16+00:00</td>\n",
       "      <td>test/files/run/t8348.check</td>\n",
       "    </tr>\n",
       "    <tr>\n",
       "      <th>4</th>\n",
       "      <td>163314316</td>\n",
       "      <td>hrhino</td>\n",
       "      <td>2018-01-16 23:29:16+00:00</td>\n",
       "      <td>test/files/run/t8348/TableColumn.java</td>\n",
       "    </tr>\n",
       "    <tr>\n",
       "      <th>5</th>\n",
       "      <td>163314316</td>\n",
       "      <td>hrhino</td>\n",
       "      <td>2018-01-16 23:29:16+00:00</td>\n",
       "      <td>test/files/run/t8348/TableColumnImpl.java</td>\n",
       "    </tr>\n",
       "    <tr>\n",
       "      <th>6</th>\n",
       "      <td>163314316</td>\n",
       "      <td>hrhino</td>\n",
       "      <td>2018-01-16 23:29:16+00:00</td>\n",
       "      <td>test/files/run/t8348/Test.scala</td>\n",
       "    </tr>\n",
       "    <tr>\n",
       "      <th>7</th>\n",
       "      <td>163061502</td>\n",
       "      <td>joroKr21</td>\n",
       "      <td>2018-01-15 23:44:52+00:00</td>\n",
       "      <td>src/library/scala/concurrent/Lock.scala</td>\n",
       "    </tr>\n",
       "    <tr>\n",
       "      <th>8</th>\n",
       "      <td>163057333</td>\n",
       "      <td>mkeskells</td>\n",
       "      <td>2018-01-15 23:05:06+00:00</td>\n",
       "      <td>src/compiler/scala/tools/nsc/profile/AsyncHelp...</td>\n",
       "    </tr>\n",
       "    <tr>\n",
       "      <th>9</th>\n",
       "      <td>163057333</td>\n",
       "      <td>mkeskells</td>\n",
       "      <td>2018-01-15 23:05:06+00:00</td>\n",
       "      <td>src/compiler/scala/tools/nsc/profile/Profiler....</td>\n",
       "    </tr>\n",
       "    <tr>\n",
       "      <th>10</th>\n",
       "      <td>162985594</td>\n",
       "      <td>lrytz</td>\n",
       "      <td>2018-01-15 15:52:39+00:00</td>\n",
       "      <td>src/compiler/scala/tools/nsc/backend/jvm/BCode...</td>\n",
       "    </tr>\n",
       "    <tr>\n",
       "      <th>11</th>\n",
       "      <td>162985594</td>\n",
       "      <td>lrytz</td>\n",
       "      <td>2018-01-15 15:52:39+00:00</td>\n",
       "      <td>src/compiler/scala/tools/nsc/symtab/classfile/...</td>\n",
       "    </tr>\n",
       "    <tr>\n",
       "      <th>12</th>\n",
       "      <td>162985594</td>\n",
       "      <td>lrytz</td>\n",
       "      <td>2018-01-15 15:52:39+00:00</td>\n",
       "      <td>src/reflect/scala/reflect/internal/pickling/By...</td>\n",
       "    </tr>\n",
       "    <tr>\n",
       "      <th>13</th>\n",
       "      <td>162838837</td>\n",
       "      <td>zuvizudar</td>\n",
       "      <td>2018-01-14 19:16:16+00:00</td>\n",
       "      <td>src/compiler/scala/reflect/reify/phases/Calcul...</td>\n",
       "    </tr>\n",
       "    <tr>\n",
       "      <th>14</th>\n",
       "      <td>162765232</td>\n",
       "      <td>howtonotwin</td>\n",
       "      <td>2018-01-13 04:37:17+00:00</td>\n",
       "      <td>src/library/scala/Predef.scala</td>\n",
       "    </tr>\n",
       "    <tr>\n",
       "      <th>15</th>\n",
       "      <td>162765232</td>\n",
       "      <td>howtonotwin</td>\n",
       "      <td>2018-01-13 04:37:17+00:00</td>\n",
       "      <td>test/files/neg/leibniz-liskov.check</td>\n",
       "    </tr>\n",
       "    <tr>\n",
       "      <th>16</th>\n",
       "      <td>162765232</td>\n",
       "      <td>howtonotwin</td>\n",
       "      <td>2018-01-13 04:37:17+00:00</td>\n",
       "      <td>test/files/neg/leibniz-liskov.scala</td>\n",
       "    </tr>\n",
       "    <tr>\n",
       "      <th>17</th>\n",
       "      <td>162765232</td>\n",
       "      <td>howtonotwin</td>\n",
       "      <td>2018-01-13 04:37:17+00:00</td>\n",
       "      <td>test/files/pos/leibniz-liskov.scala</td>\n",
       "    </tr>\n",
       "    <tr>\n",
       "      <th>18</th>\n",
       "      <td>162765232</td>\n",
       "      <td>howtonotwin</td>\n",
       "      <td>2018-01-13 04:37:17+00:00</td>\n",
       "      <td>test/files/pos/leibniz_liskov.scala</td>\n",
       "    </tr>\n",
       "    <tr>\n",
       "      <th>19</th>\n",
       "      <td>162643301</td>\n",
       "      <td>hrhino</td>\n",
       "      <td>2018-01-12 14:29:49+00:00</td>\n",
       "      <td>src/compiler/scala/tools/nsc/typechecker/Conte...</td>\n",
       "    </tr>\n",
       "    <tr>\n",
       "      <th>20</th>\n",
       "      <td>162643301</td>\n",
       "      <td>hrhino</td>\n",
       "      <td>2018-01-12 14:29:49+00:00</td>\n",
       "      <td>test/files/pos/parallel-classloader.scala</td>\n",
       "    </tr>\n",
       "    <tr>\n",
       "      <th>21</th>\n",
       "      <td>162643301</td>\n",
       "      <td>hrhino</td>\n",
       "      <td>2018-01-12 14:29:49+00:00</td>\n",
       "      <td>test/files/pos/t10568/Converter.java</td>\n",
       "    </tr>\n",
       "    <tr>\n",
       "      <th>22</th>\n",
       "      <td>162643301</td>\n",
       "      <td>hrhino</td>\n",
       "      <td>2018-01-12 14:29:49+00:00</td>\n",
       "      <td>test/files/pos/t10568/Impl.scala</td>\n",
       "    </tr>\n",
       "    <tr>\n",
       "      <th>23</th>\n",
       "      <td>162256029</td>\n",
       "      <td>mkeskells</td>\n",
       "      <td>2018-01-10 23:20:03+00:00</td>\n",
       "      <td>src/compiler/scala/tools/nsc/backend/jvm/PostP...</td>\n",
       "    </tr>\n",
       "    <tr>\n",
       "      <th>24</th>\n",
       "      <td>162256029</td>\n",
       "      <td>mkeskells</td>\n",
       "      <td>2018-01-10 23:20:03+00:00</td>\n",
       "      <td>src/compiler/scala/tools/nsc/backend/jvm/analy...</td>\n",
       "    </tr>\n",
       "    <tr>\n",
       "      <th>25</th>\n",
       "      <td>162197834</td>\n",
       "      <td>SethTisue</td>\n",
       "      <td>2018-01-10 18:31:25+00:00</td>\n",
       "      <td>LICENSE</td>\n",
       "    </tr>\n",
       "    <tr>\n",
       "      <th>26</th>\n",
       "      <td>162197834</td>\n",
       "      <td>SethTisue</td>\n",
       "      <td>2018-01-10 18:31:25+00:00</td>\n",
       "      <td>doc/LICENSE.md</td>\n",
       "    </tr>\n",
       "    <tr>\n",
       "      <th>27</th>\n",
       "      <td>162197834</td>\n",
       "      <td>SethTisue</td>\n",
       "      <td>2018-01-10 18:31:25+00:00</td>\n",
       "      <td>doc/License.rtf</td>\n",
       "    </tr>\n",
       "    <tr>\n",
       "      <th>28</th>\n",
       "      <td>162197834</td>\n",
       "      <td>SethTisue</td>\n",
       "      <td>2018-01-10 18:31:25+00:00</td>\n",
       "      <td>project/VersionUtil.scala</td>\n",
       "    </tr>\n",
       "    <tr>\n",
       "      <th>29</th>\n",
       "      <td>162197834</td>\n",
       "      <td>SethTisue</td>\n",
       "      <td>2018-01-10 18:31:25+00:00</td>\n",
       "      <td>src/library/scala/util/Properties.scala</td>\n",
       "    </tr>\n",
       "    <tr>\n",
       "      <th>30</th>\n",
       "      <td>162197834</td>\n",
       "      <td>SethTisue</td>\n",
       "      <td>2018-01-10 18:31:25+00:00</td>\n",
       "      <td>src/scaladoc/scala/tools/nsc/doc/html/page/Ent...</td>\n",
       "    </tr>\n",
       "    <tr>\n",
       "      <th>31</th>\n",
       "      <td>162197834</td>\n",
       "      <td>SethTisue</td>\n",
       "      <td>2018-01-10 18:31:25+00:00</td>\n",
       "      <td>src/scalap/decoder.properties</td>\n",
       "    </tr>\n",
       "    <tr>\n",
       "      <th>32</th>\n",
       "      <td>162011899</td>\n",
       "      <td>joroKr21</td>\n",
       "      <td>2018-01-10 00:45:57+00:00</td>\n",
       "      <td>src/reflect/scala/reflect/internal/tpe/GlbLubs...</td>\n",
       "    </tr>\n",
       "    <tr>\n",
       "      <th>33</th>\n",
       "      <td>162011899</td>\n",
       "      <td>joroKr21</td>\n",
       "      <td>2018-01-10 00:45:57+00:00</td>\n",
       "      <td>test/files/pos/t10686.scala</td>\n",
       "    </tr>\n",
       "  </tbody>\n",
       "</table>\n",
       "</div>"
      ],
      "text/plain": [
       "          pid         user                      date  \\\n",
       "0   163314316       hrhino 2018-01-16 23:29:16+00:00   \n",
       "1   163314316       hrhino 2018-01-16 23:29:16+00:00   \n",
       "2   163314316       hrhino 2018-01-16 23:29:16+00:00   \n",
       "3   163314316       hrhino 2018-01-16 23:29:16+00:00   \n",
       "4   163314316       hrhino 2018-01-16 23:29:16+00:00   \n",
       "5   163314316       hrhino 2018-01-16 23:29:16+00:00   \n",
       "6   163314316       hrhino 2018-01-16 23:29:16+00:00   \n",
       "7   163061502     joroKr21 2018-01-15 23:44:52+00:00   \n",
       "8   163057333    mkeskells 2018-01-15 23:05:06+00:00   \n",
       "9   163057333    mkeskells 2018-01-15 23:05:06+00:00   \n",
       "10  162985594        lrytz 2018-01-15 15:52:39+00:00   \n",
       "11  162985594        lrytz 2018-01-15 15:52:39+00:00   \n",
       "12  162985594        lrytz 2018-01-15 15:52:39+00:00   \n",
       "13  162838837    zuvizudar 2018-01-14 19:16:16+00:00   \n",
       "14  162765232  howtonotwin 2018-01-13 04:37:17+00:00   \n",
       "15  162765232  howtonotwin 2018-01-13 04:37:17+00:00   \n",
       "16  162765232  howtonotwin 2018-01-13 04:37:17+00:00   \n",
       "17  162765232  howtonotwin 2018-01-13 04:37:17+00:00   \n",
       "18  162765232  howtonotwin 2018-01-13 04:37:17+00:00   \n",
       "19  162643301       hrhino 2018-01-12 14:29:49+00:00   \n",
       "20  162643301       hrhino 2018-01-12 14:29:49+00:00   \n",
       "21  162643301       hrhino 2018-01-12 14:29:49+00:00   \n",
       "22  162643301       hrhino 2018-01-12 14:29:49+00:00   \n",
       "23  162256029    mkeskells 2018-01-10 23:20:03+00:00   \n",
       "24  162256029    mkeskells 2018-01-10 23:20:03+00:00   \n",
       "25  162197834    SethTisue 2018-01-10 18:31:25+00:00   \n",
       "26  162197834    SethTisue 2018-01-10 18:31:25+00:00   \n",
       "27  162197834    SethTisue 2018-01-10 18:31:25+00:00   \n",
       "28  162197834    SethTisue 2018-01-10 18:31:25+00:00   \n",
       "29  162197834    SethTisue 2018-01-10 18:31:25+00:00   \n",
       "30  162197834    SethTisue 2018-01-10 18:31:25+00:00   \n",
       "31  162197834    SethTisue 2018-01-10 18:31:25+00:00   \n",
       "32  162011899     joroKr21 2018-01-10 00:45:57+00:00   \n",
       "33  162011899     joroKr21 2018-01-10 00:45:57+00:00   \n",
       "\n",
       "                                                 file  \n",
       "0                     test/files/pos/t5638/Among.java  \n",
       "1                    test/files/pos/t5638/Usage.scala  \n",
       "2                          test/files/pos/t9291.scala  \n",
       "3                          test/files/run/t8348.check  \n",
       "4               test/files/run/t8348/TableColumn.java  \n",
       "5           test/files/run/t8348/TableColumnImpl.java  \n",
       "6                     test/files/run/t8348/Test.scala  \n",
       "7             src/library/scala/concurrent/Lock.scala  \n",
       "8   src/compiler/scala/tools/nsc/profile/AsyncHelp...  \n",
       "9   src/compiler/scala/tools/nsc/profile/Profiler....  \n",
       "10  src/compiler/scala/tools/nsc/backend/jvm/BCode...  \n",
       "11  src/compiler/scala/tools/nsc/symtab/classfile/...  \n",
       "12  src/reflect/scala/reflect/internal/pickling/By...  \n",
       "13  src/compiler/scala/reflect/reify/phases/Calcul...  \n",
       "14                     src/library/scala/Predef.scala  \n",
       "15                test/files/neg/leibniz-liskov.check  \n",
       "16                test/files/neg/leibniz-liskov.scala  \n",
       "17                test/files/pos/leibniz-liskov.scala  \n",
       "18                test/files/pos/leibniz_liskov.scala  \n",
       "19  src/compiler/scala/tools/nsc/typechecker/Conte...  \n",
       "20          test/files/pos/parallel-classloader.scala  \n",
       "21               test/files/pos/t10568/Converter.java  \n",
       "22                   test/files/pos/t10568/Impl.scala  \n",
       "23  src/compiler/scala/tools/nsc/backend/jvm/PostP...  \n",
       "24  src/compiler/scala/tools/nsc/backend/jvm/analy...  \n",
       "25                                            LICENSE  \n",
       "26                                     doc/LICENSE.md  \n",
       "27                                    doc/License.rtf  \n",
       "28                          project/VersionUtil.scala  \n",
       "29            src/library/scala/util/Properties.scala  \n",
       "30  src/scaladoc/scala/tools/nsc/doc/html/page/Ent...  \n",
       "31                      src/scalap/decoder.properties  \n",
       "32  src/reflect/scala/reflect/internal/tpe/GlbLubs...  \n",
       "33                        test/files/pos/t10686.scala  "
      ]
     },
     "execution_count": 221,
     "metadata": {},
     "output_type": "execute_result"
    }
   ],
   "source": [
    "joined_pr"
   ]
  },
  {
   "cell_type": "code",
   "execution_count": 222,
   "metadata": {
    "collapsed": true,
    "dc": {
     "key": "40"
    }
   },
   "outputs": [],
   "source": [
    "# Identify the unique files\n",
    "files = set(joined_pr['file'])"
   ]
  },
  {
   "cell_type": "code",
   "execution_count": 223,
   "metadata": {
    "dc": {
     "key": "40"
    },
    "scrolled": false
   },
   "outputs": [
    {
     "data": {
      "text/plain": [
       "{'LICENSE',\n",
       " 'doc/LICENSE.md',\n",
       " 'doc/License.rtf',\n",
       " 'project/VersionUtil.scala',\n",
       " 'src/compiler/scala/reflect/reify/phases/Calculate.scala',\n",
       " 'src/compiler/scala/tools/nsc/backend/jvm/BCodeHelpers.scala',\n",
       " 'src/compiler/scala/tools/nsc/backend/jvm/PostProcessor.scala',\n",
       " 'src/compiler/scala/tools/nsc/backend/jvm/analysis/BackendUtils.scala',\n",
       " 'src/compiler/scala/tools/nsc/profile/AsyncHelper.scala',\n",
       " 'src/compiler/scala/tools/nsc/profile/Profiler.scala',\n",
       " 'src/compiler/scala/tools/nsc/symtab/classfile/ClassfileParser.scala',\n",
       " 'src/compiler/scala/tools/nsc/typechecker/Contexts.scala',\n",
       " 'src/library/scala/Predef.scala',\n",
       " 'src/library/scala/concurrent/Lock.scala',\n",
       " 'src/library/scala/util/Properties.scala',\n",
       " 'src/reflect/scala/reflect/internal/pickling/ByteCodecs.scala',\n",
       " 'src/reflect/scala/reflect/internal/tpe/GlbLubs.scala',\n",
       " 'src/scaladoc/scala/tools/nsc/doc/html/page/Entity.scala',\n",
       " 'src/scalap/decoder.properties',\n",
       " 'test/files/neg/leibniz-liskov.check',\n",
       " 'test/files/neg/leibniz-liskov.scala',\n",
       " 'test/files/pos/leibniz-liskov.scala',\n",
       " 'test/files/pos/leibniz_liskov.scala',\n",
       " 'test/files/pos/parallel-classloader.scala',\n",
       " 'test/files/pos/t10568/Converter.java',\n",
       " 'test/files/pos/t10568/Impl.scala',\n",
       " 'test/files/pos/t10686.scala',\n",
       " 'test/files/pos/t5638/Among.java',\n",
       " 'test/files/pos/t5638/Usage.scala',\n",
       " 'test/files/pos/t9291.scala',\n",
       " 'test/files/run/t8348.check',\n",
       " 'test/files/run/t8348/TableColumn.java',\n",
       " 'test/files/run/t8348/TableColumnImpl.java',\n",
       " 'test/files/run/t8348/Test.scala'}"
      ]
     },
     "execution_count": 223,
     "metadata": {},
     "output_type": "execute_result"
    }
   ],
   "source": [
    "files"
   ]
  },
  {
   "cell_type": "code",
   "execution_count": 224,
   "metadata": {
    "dc": {
     "key": "40"
    }
   },
   "outputs": [
    {
     "data": {
      "text/plain": [
       "array(['test/files/pos/t5638/Among.java',\n",
       "       'test/files/pos/t5638/Usage.scala', 'test/files/pos/t9291.scala',\n",
       "       'test/files/run/t8348.check',\n",
       "       'test/files/run/t8348/TableColumn.java',\n",
       "       'test/files/run/t8348/TableColumnImpl.java',\n",
       "       'test/files/run/t8348/Test.scala',\n",
       "       'src/library/scala/concurrent/Lock.scala',\n",
       "       'src/compiler/scala/tools/nsc/profile/AsyncHelper.scala',\n",
       "       'src/compiler/scala/tools/nsc/profile/Profiler.scala',\n",
       "       'src/compiler/scala/tools/nsc/backend/jvm/BCodeHelpers.scala',\n",
       "       'src/compiler/scala/tools/nsc/symtab/classfile/ClassfileParser.scala',\n",
       "       'src/reflect/scala/reflect/internal/pickling/ByteCodecs.scala',\n",
       "       'src/compiler/scala/reflect/reify/phases/Calculate.scala',\n",
       "       'src/library/scala/Predef.scala',\n",
       "       'test/files/neg/leibniz-liskov.check',\n",
       "       'test/files/neg/leibniz-liskov.scala',\n",
       "       'test/files/pos/leibniz-liskov.scala',\n",
       "       'test/files/pos/leibniz_liskov.scala',\n",
       "       'src/compiler/scala/tools/nsc/typechecker/Contexts.scala',\n",
       "       'test/files/pos/parallel-classloader.scala',\n",
       "       'test/files/pos/t10568/Converter.java',\n",
       "       'test/files/pos/t10568/Impl.scala',\n",
       "       'src/compiler/scala/tools/nsc/backend/jvm/PostProcessor.scala',\n",
       "       'src/compiler/scala/tools/nsc/backend/jvm/analysis/BackendUtils.scala',\n",
       "       'LICENSE', 'doc/LICENSE.md', 'doc/License.rtf',\n",
       "       'project/VersionUtil.scala',\n",
       "       'src/library/scala/util/Properties.scala',\n",
       "       'src/scaladoc/scala/tools/nsc/doc/html/page/Entity.scala',\n",
       "       'src/scalap/decoder.properties',\n",
       "       'src/reflect/scala/reflect/internal/tpe/GlbLubs.scala',\n",
       "       'test/files/pos/t10686.scala'], dtype=object)"
      ]
     },
     "execution_count": 224,
     "metadata": {},
     "output_type": "execute_result"
    }
   ],
   "source": [
    "joined_pr['file'].unique()"
   ]
  },
  {
   "cell_type": "markdown",
   "metadata": {
    "dc": {
     "key": "47"
    },
    "deletable": false,
    "editable": false,
    "run_control": {
     "frozen": true
    },
    "tags": [
     "context"
    ]
   },
   "source": [
    "## 7. Who made the most pull requests to a given file?\n",
    "<p>When contributing to a project, we might need some guidance. We might find ourselves needing some information regarding the codebase. It is important direct any questions to the right person. Contributors to open source projects generally have other day jobs, so their time is limited. It is important to address our questions to the right people. One way to identify the right target for our inquiries is by using their contribution history.</p>\n",
    "<p>We identified <code>src/compiler/scala/reflect/reify/phases/Calculate.scala</code> as being recently changed. We are interested in the top 3 developers who changed that file. Those developers are the ones most likely to have the best understanding of the code.</p>"
   ]
  },
  {
   "cell_type": "code",
   "execution_count": 226,
   "metadata": {
    "dc": {
     "key": "47"
    }
   },
   "outputs": [
    {
     "data": {
      "text/html": [
       "<div>\n",
       "<style scoped>\n",
       "    .dataframe tbody tr th:only-of-type {\n",
       "        vertical-align: middle;\n",
       "    }\n",
       "\n",
       "    .dataframe tbody tr th {\n",
       "        vertical-align: top;\n",
       "    }\n",
       "\n",
       "    .dataframe thead th {\n",
       "        text-align: right;\n",
       "    }\n",
       "</style>\n",
       "<table border=\"1\" class=\"dataframe\">\n",
       "  <thead>\n",
       "    <tr style=\"text-align: right;\">\n",
       "      <th></th>\n",
       "      <th>pid</th>\n",
       "      <th>user</th>\n",
       "      <th>date</th>\n",
       "      <th>file</th>\n",
       "      <th>month</th>\n",
       "      <th>year</th>\n",
       "    </tr>\n",
       "  </thead>\n",
       "  <tbody>\n",
       "    <tr>\n",
       "      <th>0</th>\n",
       "      <td>11166973</td>\n",
       "      <td>VladimirNik</td>\n",
       "      <td>2013-12-31 23:10:55+00:00</td>\n",
       "      <td>src/reflect/scala/reflect/api/Printers.scala</td>\n",
       "      <td>12</td>\n",
       "      <td>2013</td>\n",
       "    </tr>\n",
       "  </tbody>\n",
       "</table>\n",
       "</div>"
      ],
      "text/plain": [
       "        pid         user                      date  \\\n",
       "0  11166973  VladimirNik 2013-12-31 23:10:55+00:00   \n",
       "\n",
       "                                           file  month  year  \n",
       "0  src/reflect/scala/reflect/api/Printers.scala     12  2013  "
      ]
     },
     "execution_count": 226,
     "metadata": {},
     "output_type": "execute_result"
    }
   ],
   "source": [
    "data.head(1)"
   ]
  },
  {
   "cell_type": "code",
   "execution_count": 227,
   "metadata": {
    "dc": {
     "key": "47"
    },
    "tags": [
     "sample_code"
    ]
   },
   "outputs": [],
   "source": [
    "# This is the file we are interested in:\n",
    "file = 'src/compiler/scala/reflect/reify/phases/Calculate.scala'\n",
    "\n",
    "# Identify the commits that changed the file\n",
    "file_pr = data[data['file'] == file]"
   ]
  },
  {
   "cell_type": "code",
   "execution_count": 228,
   "metadata": {
    "dc": {
     "key": "47"
    }
   },
   "outputs": [
    {
     "data": {
      "text/plain": [
       "(30, 6)"
      ]
     },
     "execution_count": 228,
     "metadata": {},
     "output_type": "execute_result"
    }
   ],
   "source": [
    "file_pr.shape"
   ]
  },
  {
   "cell_type": "code",
   "execution_count": 229,
   "metadata": {
    "collapsed": true,
    "dc": {
     "key": "47"
    }
   },
   "outputs": [],
   "source": [
    "# Count the number of changes made by each developer\n",
    "author_counts = file_pr.groupby('user').count()['pid']"
   ]
  },
  {
   "cell_type": "code",
   "execution_count": 230,
   "metadata": {
    "dc": {
     "key": "47"
    }
   },
   "outputs": [
    {
     "data": {
      "text/plain": [
       "user\n",
       "xeno-by     11\n",
       "retronym     5\n",
       "soc          4\n",
       "Name: pid, dtype: int64"
      ]
     },
     "execution_count": 230,
     "metadata": {},
     "output_type": "execute_result"
    }
   ],
   "source": [
    "# Print the top 3 developers\n",
    "author_counts.nlargest(n=3)"
   ]
  },
  {
   "cell_type": "markdown",
   "metadata": {
    "dc": {
     "key": "54"
    },
    "deletable": false,
    "editable": false,
    "run_control": {
     "frozen": true
    },
    "tags": [
     "context"
    ]
   },
   "source": [
    "## 8. Who made the last ten pull requests on a given file?\n",
    "<p>Open source projects suffer from fluctuating membership. This makes the problem of finding the right person more challenging: the person has to be knowledgeable <em>and</em> still be involved in the project. A person that contributed a lot in the past might no longer be available (or willing) to help. To get a better understanding, we need to investigate the more recent history of that particular part of the system. </p>\n",
    "<p>Like in the previous task, we will look at the history of  <code>src/compiler/scala/reflect/reify/phases/Calculate.scala</code>.</p>"
   ]
  },
  {
   "cell_type": "code",
   "execution_count": 232,
   "metadata": {
    "dc": {
     "key": "54"
    },
    "tags": [
     "sample_code"
    ]
   },
   "outputs": [],
   "source": [
    "file = 'src/compiler/scala/reflect/reify/phases/Calculate.scala'\n",
    "\n",
    "# Select the pull requests that changed the target file\n",
    "file_pr = data[data['file'] == file]"
   ]
  },
  {
   "cell_type": "code",
   "execution_count": 233,
   "metadata": {
    "collapsed": true,
    "dc": {
     "key": "54"
    }
   },
   "outputs": [],
   "source": [
    "# Merge the obtained results with the pulls DataFrame\n",
    "joined_pr = pd.merge(left = file_pr, right = pull_files, on = 'pid')"
   ]
  },
  {
   "cell_type": "code",
   "execution_count": 234,
   "metadata": {
    "dc": {
     "key": "54"
    }
   },
   "outputs": [
    {
     "data": {
      "text/plain": [
       "(7350, 7)"
      ]
     },
     "execution_count": 234,
     "metadata": {},
     "output_type": "execute_result"
    }
   ],
   "source": [
    "joined_pr.shape"
   ]
  },
  {
   "cell_type": "code",
   "execution_count": 235,
   "metadata": {
    "dc": {
     "key": "54"
    }
   },
   "outputs": [
    {
     "data": {
      "text/plain": [
       "{'retronym', 'zuvizudar'}"
      ]
     },
     "execution_count": 235,
     "metadata": {},
     "output_type": "execute_result"
    }
   ],
   "source": [
    "# Find the users of the last 10 most recent pull requests\n",
    "users_last_10 = set(joined_pr.nlargest(10, 'date')['user'])\n",
    "\n",
    "# Printing the results\n",
    "users_last_10"
   ]
  },
  {
   "cell_type": "markdown",
   "metadata": {
    "dc": {
     "key": "61"
    },
    "deletable": false,
    "editable": false,
    "run_control": {
     "frozen": true
    },
    "tags": [
     "context"
    ]
   },
   "source": [
    "## 9. The pull requests of two special developers\n",
    "<p>Now that we have identified two potential contacts in the projects, we need to find the person who was most involved in the project in recent times. That person is most likely to answer our questions. For each calendar year, we are interested in understanding the number of pull requests the authors submitted. This will give us a high-level image of their contribution trend to the project.</p>"
   ]
  },
  {
   "cell_type": "code",
   "execution_count": 237,
   "metadata": {
    "dc": {
     "key": "61"
    },
    "tags": [
     "sample_code"
    ]
   },
   "outputs": [],
   "source": [
    "# The developers we are interested in\n",
    "authors = ['xeno-by', 'soc']\n",
    "\n",
    "# Get all the developers' pull requests\n",
    "by_author = pulls[pulls['user'].isin(authors)]\n",
    "\n",
    "# Count the number of pull requests submitted each year\n",
    "counts = by_author.groupby(['user', pulls['date'].dt.year]).agg({'pid': 'count'}).reset_index()\n",
    "\n",
    "# Convert the table to a wide format\n",
    "counts_wide = counts.pivot_table(index='date', columns='user', values='pid', fill_value=0)"
   ]
  },
  {
   "cell_type": "code",
   "execution_count": 238,
   "metadata": {
    "dc": {
     "key": "61"
    },
    "scrolled": true
   },
   "outputs": [
    {
     "data": {
      "text/html": [
       "<div>\n",
       "<style scoped>\n",
       "    .dataframe tbody tr th:only-of-type {\n",
       "        vertical-align: middle;\n",
       "    }\n",
       "\n",
       "    .dataframe tbody tr th {\n",
       "        vertical-align: top;\n",
       "    }\n",
       "\n",
       "    .dataframe thead th {\n",
       "        text-align: right;\n",
       "    }\n",
       "</style>\n",
       "<table border=\"1\" class=\"dataframe\">\n",
       "  <thead>\n",
       "    <tr style=\"text-align: right;\">\n",
       "      <th>user</th>\n",
       "      <th>soc</th>\n",
       "      <th>xeno-by</th>\n",
       "    </tr>\n",
       "    <tr>\n",
       "      <th>date</th>\n",
       "      <th></th>\n",
       "      <th></th>\n",
       "    </tr>\n",
       "  </thead>\n",
       "  <tbody>\n",
       "    <tr>\n",
       "      <th>2011</th>\n",
       "      <td>12</td>\n",
       "      <td>20</td>\n",
       "    </tr>\n",
       "    <tr>\n",
       "      <th>2012</th>\n",
       "      <td>44</td>\n",
       "      <td>271</td>\n",
       "    </tr>\n",
       "    <tr>\n",
       "      <th>2013</th>\n",
       "      <td>117</td>\n",
       "      <td>123</td>\n",
       "    </tr>\n",
       "    <tr>\n",
       "      <th>2014</th>\n",
       "      <td>20</td>\n",
       "      <td>60</td>\n",
       "    </tr>\n",
       "    <tr>\n",
       "      <th>2015</th>\n",
       "      <td>24</td>\n",
       "      <td>3</td>\n",
       "    </tr>\n",
       "    <tr>\n",
       "      <th>2016</th>\n",
       "      <td>21</td>\n",
       "      <td>0</td>\n",
       "    </tr>\n",
       "  </tbody>\n",
       "</table>\n",
       "</div>"
      ],
      "text/plain": [
       "user  soc  xeno-by\n",
       "date              \n",
       "2011   12       20\n",
       "2012   44      271\n",
       "2013  117      123\n",
       "2014   20       60\n",
       "2015   24        3\n",
       "2016   21        0"
      ]
     },
     "execution_count": 238,
     "metadata": {},
     "output_type": "execute_result"
    }
   ],
   "source": [
    "counts_wide"
   ]
  },
  {
   "cell_type": "code",
   "execution_count": 239,
   "metadata": {
    "dc": {
     "key": "61"
    }
   },
   "outputs": [
    {
     "data": {
      "image/png": "[encoded data removed]",
      "text/plain": [
       "<Figure size 432x288 with 1 Axes>"
      ]
     },
     "metadata": {},
     "output_type": "display_data"
    }
   ],
   "source": [
    "# Plot the results\n",
    "counts_wide.plot(kind='bar');"
   ]
  },
  {
   "cell_type": "markdown",
   "metadata": {
    "dc": {
     "key": "68"
    },
    "deletable": false,
    "editable": false,
    "run_control": {
     "frozen": true
    },
    "tags": [
     "context"
    ]
   },
   "source": [
    "## 10. Visualizing the contributions of each developer\n",
    "<p>As mentioned before, it is important to make a distinction between the global expertise and contribution levels and the contribution levels at a more granular level (file, submodule, etc.) In our case, we want to see which of our two developers of interest have the most experience with the code in a given file. We will measure experience by the number of pull requests submitted that affect that file and how recent those pull requests were submitted.</p>"
   ]
  },
  {
   "cell_type": "code",
   "execution_count": 241,
   "metadata": {
    "collapsed": true,
    "dc": {
     "key": "68"
    },
    "tags": [
     "sample_code"
    ]
   },
   "outputs": [],
   "source": [
    "authors = ['xeno-by', 'soc']\n",
    "file = 'src/compiler/scala/reflect/reify/phases/Calculate.scala'\n",
    "\n",
    "# Select the pull requests submitted by the authors, from the `data` DataFrame\n",
    "by_author = data[data['user'].isin(authors)]"
   ]
  },
  {
   "cell_type": "code",
   "execution_count": 242,
   "metadata": {
    "dc": {
     "key": "68"
    }
   },
   "outputs": [
    {
     "data": {
      "text/html": [
       "<div>\n",
       "<style scoped>\n",
       "    .dataframe tbody tr th:only-of-type {\n",
       "        vertical-align: middle;\n",
       "    }\n",
       "\n",
       "    .dataframe tbody tr th {\n",
       "        vertical-align: top;\n",
       "    }\n",
       "\n",
       "    .dataframe thead th {\n",
       "        text-align: right;\n",
       "    }\n",
       "</style>\n",
       "<table border=\"1\" class=\"dataframe\">\n",
       "  <thead>\n",
       "    <tr style=\"text-align: right;\">\n",
       "      <th></th>\n",
       "      <th>pid</th>\n",
       "      <th>user</th>\n",
       "      <th>date</th>\n",
       "      <th>file</th>\n",
       "      <th>month</th>\n",
       "      <th>year</th>\n",
       "    </tr>\n",
       "  </thead>\n",
       "  <tbody>\n",
       "    <tr>\n",
       "      <th>25</th>\n",
       "      <td>11126653</td>\n",
       "      <td>xeno-by</td>\n",
       "      <td>2013-12-28 19:39:23+00:00</td>\n",
       "      <td>src/reflect/scala/reflect/internal/Mirrors.scala</td>\n",
       "      <td>12</td>\n",
       "      <td>2013</td>\n",
       "    </tr>\n",
       "    <tr>\n",
       "      <th>26</th>\n",
       "      <td>11126653</td>\n",
       "      <td>xeno-by</td>\n",
       "      <td>2013-12-28 19:39:23+00:00</td>\n",
       "      <td>test/junit/scala/reflect/internal/MirrorsTest....</td>\n",
       "      <td>12</td>\n",
       "      <td>2013</td>\n",
       "    </tr>\n",
       "    <tr>\n",
       "      <th>31</th>\n",
       "      <td>11121557</td>\n",
       "      <td>xeno-by</td>\n",
       "      <td>2013-12-27 23:50:56+00:00</td>\n",
       "      <td>test/files/neg/t8104a.check</td>\n",
       "      <td>12</td>\n",
       "      <td>2013</td>\n",
       "    </tr>\n",
       "    <tr>\n",
       "      <th>32</th>\n",
       "      <td>11121557</td>\n",
       "      <td>xeno-by</td>\n",
       "      <td>2013-12-27 23:50:56+00:00</td>\n",
       "      <td>test/files/neg/t8104a/Macros_1.scala</td>\n",
       "      <td>12</td>\n",
       "      <td>2013</td>\n",
       "    </tr>\n",
       "    <tr>\n",
       "      <th>33</th>\n",
       "      <td>11121557</td>\n",
       "      <td>xeno-by</td>\n",
       "      <td>2013-12-27 23:50:56+00:00</td>\n",
       "      <td>test/files/neg/t8104a/Test_2.scala</td>\n",
       "      <td>12</td>\n",
       "      <td>2013</td>\n",
       "    </tr>\n",
       "  </tbody>\n",
       "</table>\n",
       "</div>"
      ],
      "text/plain": [
       "         pid     user                      date  \\\n",
       "25  11126653  xeno-by 2013-12-28 19:39:23+00:00   \n",
       "26  11126653  xeno-by 2013-12-28 19:39:23+00:00   \n",
       "31  11121557  xeno-by 2013-12-27 23:50:56+00:00   \n",
       "32  11121557  xeno-by 2013-12-27 23:50:56+00:00   \n",
       "33  11121557  xeno-by 2013-12-27 23:50:56+00:00   \n",
       "\n",
       "                                                 file  month  year  \n",
       "25   src/reflect/scala/reflect/internal/Mirrors.scala     12  2013  \n",
       "26  test/junit/scala/reflect/internal/MirrorsTest....     12  2013  \n",
       "31                        test/files/neg/t8104a.check     12  2013  \n",
       "32               test/files/neg/t8104a/Macros_1.scala     12  2013  \n",
       "33                 test/files/neg/t8104a/Test_2.scala     12  2013  "
      ]
     },
     "execution_count": 242,
     "metadata": {},
     "output_type": "execute_result"
    }
   ],
   "source": [
    "by_author.head()"
   ]
  },
  {
   "cell_type": "code",
   "execution_count": 243,
   "metadata": {
    "collapsed": true,
    "dc": {
     "key": "68"
    }
   },
   "outputs": [],
   "source": [
    "# Select the pull requests that affect the file\n",
    "by_file = by_author[by_author['file'] == file]\n",
    "\n",
    "# Group and count the number of PRs done by each user each year\n",
    "grouped = by_file.groupby(['user', by_file['date'].dt.year]).count()['pid'].reset_index()"
   ]
  },
  {
   "cell_type": "code",
   "execution_count": 244,
   "metadata": {
    "dc": {
     "key": "68"
    }
   },
   "outputs": [
    {
     "data": {
      "text/html": [
       "<div>\n",
       "<style scoped>\n",
       "    .dataframe tbody tr th:only-of-type {\n",
       "        vertical-align: middle;\n",
       "    }\n",
       "\n",
       "    .dataframe tbody tr th {\n",
       "        vertical-align: top;\n",
       "    }\n",
       "\n",
       "    .dataframe thead th {\n",
       "        text-align: right;\n",
       "    }\n",
       "</style>\n",
       "<table border=\"1\" class=\"dataframe\">\n",
       "  <thead>\n",
       "    <tr style=\"text-align: right;\">\n",
       "      <th></th>\n",
       "      <th>user</th>\n",
       "      <th>date</th>\n",
       "      <th>pid</th>\n",
       "    </tr>\n",
       "  </thead>\n",
       "  <tbody>\n",
       "    <tr>\n",
       "      <th>0</th>\n",
       "      <td>soc</td>\n",
       "      <td>2012</td>\n",
       "      <td>2</td>\n",
       "    </tr>\n",
       "    <tr>\n",
       "      <th>1</th>\n",
       "      <td>soc</td>\n",
       "      <td>2013</td>\n",
       "      <td>2</td>\n",
       "    </tr>\n",
       "    <tr>\n",
       "      <th>2</th>\n",
       "      <td>xeno-by</td>\n",
       "      <td>2012</td>\n",
       "      <td>10</td>\n",
       "    </tr>\n",
       "    <tr>\n",
       "      <th>3</th>\n",
       "      <td>xeno-by</td>\n",
       "      <td>2014</td>\n",
       "      <td>1</td>\n",
       "    </tr>\n",
       "  </tbody>\n",
       "</table>\n",
       "</div>"
      ],
      "text/plain": [
       "      user  date  pid\n",
       "0      soc  2012    2\n",
       "1      soc  2013    2\n",
       "2  xeno-by  2012   10\n",
       "3  xeno-by  2014    1"
      ]
     },
     "execution_count": 244,
     "metadata": {},
     "output_type": "execute_result"
    }
   ],
   "source": [
    "grouped"
   ]
  },
  {
   "cell_type": "code",
   "execution_count": 245,
   "metadata": {
    "dc": {
     "key": "68"
    }
   },
   "outputs": [
    {
     "data": {
      "text/plain": [
       "<matplotlib.axes._subplots.AxesSubplot at 0x7f9e566f6ac8>"
      ]
     },
     "execution_count": 245,
     "metadata": {},
     "output_type": "execute_result"
    },
    {
     "data": {
      "image/png": "[encoded data removed]",
      "text/plain": [
       "<Figure size 432x288 with 1 Axes>"
      ]
     },
     "metadata": {},
     "output_type": "display_data"
    }
   ],
   "source": [
    "# Transform the data into a wide format\n",
    "by_file_wide = grouped.pivot_table(values = 'pid', index='date', columns='user')\n",
    "\n",
    "# Plot the results\n",
    "by_file_wide.plot(kind='bar')"
   ]
  }
 ],
 "metadata": {
  "kernelspec": {
   "display_name": "Python 3",
   "language": "python",
   "name": "python3"
  },
  "language_info": {
   "codemirror_mode": {
    "name": "ipython",
    "version": 3
   },
   "file_extension": ".py",
   "mimetype": "text/x-python",
   "name": "python",
   "nbconvert_exporter": "python",
   "pygments_lexer": "ipython3",
   "version": "3.7.4"
  }
 },
 "nbformat": 4,
 "nbformat_minor": 2
}
